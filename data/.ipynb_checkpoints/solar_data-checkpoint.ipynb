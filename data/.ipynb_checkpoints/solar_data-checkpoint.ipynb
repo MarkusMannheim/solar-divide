{
 "cells": [
  {
   "cell_type": "code",
   "execution_count": 146,
   "metadata": {},
   "outputs": [
    {
     "name": "stdout",
     "output_type": "stream",
     "text": [
      "saving postcode totals ...\n",
      "create postcode list ...\n",
      "calculating 2001 time-series data ...\n",
      "calculating 2002 time-series data ...\n",
      "calculating 2003 time-series data ...\n",
      "calculating 2004 time-series data ...\n",
      "calculating 2005 time-series data ...\n",
      "calculating 2006 time-series data ...\n",
      "calculating 2007 time-series data ...\n",
      "calculating 2008 time-series data ...\n",
      "calculating 2009 time-series data ...\n",
      "calculating 2010 time-series data ...\n",
      "calculating 2011 time-series data ...\n",
      "calculating 2012 time-series data ...\n",
      "calculating 2013 time-series data ...\n",
      "calculating 2014 time-series data ...\n",
      "calculating 2015 time-series data ...\n",
      "calculating 2016 time-series data ...\n",
      "calculating 2017 time-series data ...\n",
      "calculating 2018 time-series data ...\n",
      "calculating 2019 time-series data ...\n",
      "calculating 2020 time-series data ...\n",
      "saving monthly installations ...\n",
      "saving time-series data ...\n"
     ]
    }
   ],
   "source": [
    "import pandas as pd\n",
    "\n",
    "solar_data = pd.read_csv(\"./historicData/Postcode data for small-scale installations - SGU-Solar.csv\", index_col=\"Small Unit Installation Postcode\")\n",
    "solar_data.index.name = \"postcode\"\n",
    "columns = solar_data.columns\n",
    "\n",
    "print(\"saving postcode totals ...\")\n",
    "postcode_total = solar_data[[\"Installations Quantity Total\"]]\n",
    "postcode_total.columns = [\"installations\"]\n",
    "postcode_total.to_csv(\"./solarData/postcode_total.csv\")\n",
    "\n",
    "print(\"create postcode list ...\")\n",
    "postcodes = list(solar_data.index)\n",
    "\n",
    "solar_time_series = pd.DataFrame(index=solar_data.index)\n",
    "\n",
    "for year in range(2001, 2021):\n",
    "    print(f\"calculating {year} time-series data ...\")\n",
    "    if year > 2018:\n",
    "        data_url = \"./historicData/Postcode data for small-scale installations - SGU-Solar.csv\"\n",
    "    else:\n",
    "        data_url = f\"./historicData/Postcode data for small-scale installations {year} - SGU-Solar.csv\"\n",
    "    temp_data = pd.read_csv(data_url, index_col=\"Small Unit Installation Postcode\")    \n",
    "    filtered_columns = []\n",
    "    for column in temp_data.columns:\n",
    "        if f\"{year} - Installations Quantity\" in column:\n",
    "            filtered_columns.append(column)\n",
    "    temp_data = temp_data[filtered_columns]\n",
    "    for column in temp_data.columns:\n",
    "        solar_time_series[column[:8]] = temp_data[column]\n",
    "\n",
    "print(\"saving monthly installations ...\")\n",
    "monthly_installs = pd.DataFrame(solar_time_series.sum())\n",
    "monthly_installs.columns = [\"installations\"]\n",
    "monthly_installs.to_csv(\"./solarData/monthly_installs.csv\", index_label=\"month\")\n",
    "\n",
    "print(\"saving time-series data ...\")\n",
    "solar_time_series = solar_time_series.cumsum(axis=1)\n",
    "solar_time_series.to_csv(\"./solarData/solar_timeseries.csv\")"
   ]
  },
  {
   "cell_type": "code",
   "execution_count": 163,
   "metadata": {},
   "outputs": [
    {
     "data": {
      "text/plain": [
       "Owned outright                                  2399288\n",
       "Owned with a mortgage                           2661300\n",
       "Being purchased under a shared equity scheme       8138\n",
       "Rented                                          1773079\n",
       "Being occupied rent-free                          69633\n",
       "Being occupied under a life tenure scheme         31676\n",
       "Other tenure type                                 30290\n",
       "Not stated                                       494915\n",
       "Not applicable                                   838990\n",
       "Total                                           8311640\n",
       "dtype: int64"
      ]
     },
     "execution_count": 163,
     "metadata": {},
     "output_type": "execute_result"
    }
   ],
   "source": [
    "df1 = pd.read_csv(\"./solarData/solarPostcodeIncome2016house.csv\", index_col=\"postcode\")\n",
    "df2 = pd.read_csv(\"./solarData/solarPostcodeIncome2016semi1.csv\", index_col=\"postcode\")\n",
    "df3 = pd.read_csv(\"./solarData/solarPostcodeIncome2016semi2.csv\", index_col=\"postcode\")\n",
    "solar_incomes = df1 + df2 + df3\n",
    "\n",
    "df1 = pd.read_csv(\"./solarData/solarPostcodeTenure2016house.csv\", index_col=\"postcode\")\n",
    "df2 = pd.read_csv(\"./solarData/solarPostcodeTenure2016semi1.csv\", index_col=\"postcode\")\n",
    "df3 = pd.read_csv(\"./solarData/solarPostcodeTenure2016semi2.csv\", index_col=\"postcode\")\n",
    "solar_tenure = df1 + df2 + df3"
   ]
  },
  {
   "cell_type": "code",
   "execution_count": null,
   "metadata": {},
   "outputs": [],
   "source": []
  }
 ],
 "metadata": {
  "kernelspec": {
   "display_name": "Python 3",
   "language": "python",
   "name": "python3"
  },
  "language_info": {
   "codemirror_mode": {
    "name": "ipython",
    "version": 3
   },
   "file_extension": ".py",
   "mimetype": "text/x-python",
   "name": "python",
   "nbconvert_exporter": "python",
   "pygments_lexer": "ipython3",
   "version": "3.8.5"
  }
 },
 "nbformat": 4,
 "nbformat_minor": 4
}
