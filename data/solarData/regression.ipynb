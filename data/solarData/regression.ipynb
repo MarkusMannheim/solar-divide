{
 "cells": [
  {
   "cell_type": "code",
   "execution_count": 34,
   "metadata": {},
   "outputs": [],
   "source": [
    "import pandas as pd\n",
    "from sklearn.linear_model import LinearRegression\n",
    "\n",
    "def clean_money(x):\n",
    "    x = str(x);\n",
    "    x = x.replace(\"$\", \"\").replace(\",\", \"\")\n",
    "    return int(x)\n",
    "\n",
    "data = pd.read_csv(\"final_postcodes.csv\")\n",
    "data[\"installRate\"] = data[\"installRate\"].apply(lambda x: 1 if x > 1 else x)\n",
    "data[\"income\"] = data[\"income\"].apply(clean_money)\n",
    "data = data.dropna()"
   ]
  },
  {
   "cell_type": "code",
   "execution_count": 35,
   "metadata": {},
   "outputs": [
    {
     "data": {
      "text/plain": [
       "0.045317857763049973"
      ]
     },
     "execution_count": 35,
     "metadata": {},
     "output_type": "execute_result"
    }
   ],
   "source": [
    "x = data[\"solar\"].values.reshape(-1, 1)\n",
    "y = data[\"installRate\"].values.reshape(-1, 1)\n",
    "reg = LinearRegression().fit(x, y)\n",
    "reg.score(x, y)"
   ]
  },
  {
   "cell_type": "code",
   "execution_count": 36,
   "metadata": {},
   "outputs": [
    {
     "data": {
      "text/plain": [
       "0.017828458260634172"
      ]
     },
     "execution_count": 36,
     "metadata": {},
     "output_type": "execute_result"
    }
   ],
   "source": [
    "x = data[\"income\"].values.reshape(-1, 1)\n",
    "y = data[\"installRate\"].values.reshape(-1, 1)\n",
    "reg = LinearRegression().fit(x, y)\n",
    "reg.score(x, y)"
   ]
  },
  {
   "cell_type": "code",
   "execution_count": 37,
   "metadata": {},
   "outputs": [
    {
     "data": {
      "text/plain": [
       "0.07448449463227347"
      ]
     },
     "execution_count": 37,
     "metadata": {},
     "output_type": "execute_result"
    }
   ],
   "source": [
    "x = data[\"ownership\"].values.reshape(-1, 1)\n",
    "y = data[\"installRate\"].values.reshape(-1, 1)\n",
    "reg = LinearRegression().fit(x, y)\n",
    "reg.score(x, y)"
   ]
  },
  {
   "cell_type": "code",
   "execution_count": 38,
   "metadata": {},
   "outputs": [
    {
     "data": {
      "text/plain": [
       "count    2611.000000\n",
       "mean        0.317902\n",
       "std         0.153167\n",
       "min         0.000000\n",
       "25%         0.204529\n",
       "50%         0.306364\n",
       "75%         0.412502\n",
       "max         1.000000\n",
       "Name: installRate, dtype: float64"
      ]
     },
     "execution_count": 38,
     "metadata": {},
     "output_type": "execute_result"
    }
   ],
   "source": [
    "data[\"installRate\"].describe()"
   ]
  },
  {
   "cell_type": "code",
   "execution_count": null,
   "metadata": {},
   "outputs": [],
   "source": []
  }
 ],
 "metadata": {
  "kernelspec": {
   "display_name": "Python 3",
   "language": "python",
   "name": "python3"
  },
  "language_info": {
   "codemirror_mode": {
    "name": "ipython",
    "version": 3
   },
   "file_extension": ".py",
   "mimetype": "text/x-python",
   "name": "python",
   "nbconvert_exporter": "python",
   "pygments_lexer": "ipython3",
   "version": "3.8.5"
  }
 },
 "nbformat": 4,
 "nbformat_minor": 4
}
