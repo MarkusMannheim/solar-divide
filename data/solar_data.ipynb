{
 "cells": [
  {
   "cell_type": "code",
   "execution_count": 3,
   "metadata": {},
   "outputs": [
    {
     "data": {
      "text/plain": [
       "False"
      ]
     },
     "execution_count": 3,
     "metadata": {},
     "output_type": "execute_result"
    }
   ],
   "source": [
    "import pandas as pd\n",
    "\n",
    "data = pd.read_excel(\"solar_data.xlsx\", header=3)\n",
    "columns = data.columns"
   ]
  },
  {
   "cell_type": "code",
   "execution_count": 14,
   "metadata": {},
   "outputs": [
    {
     "data": {
      "text/plain": [
       "['Jan 2019 - SGU Rated Output In kW',\n",
       " 'Feb 2019 - Installations Quantity',\n",
       " 'Feb 2019 - SGU Rated Output In kW',\n",
       " 'Mar 2019 - Installations Quantity',\n",
       " 'Mar 2019 - SGU Rated Output In kW',\n",
       " 'Apr 2019 - Installations Quantity',\n",
       " 'Apr 2019 - SGU Rated Output In kW',\n",
       " 'May 2019 - Installations Quantity',\n",
       " 'May 2019 - SGU Rated Output In kW',\n",
       " 'Jun 2019 - Installations Quantity',\n",
       " 'Jun 2019 - SGU Rated Output In kW',\n",
       " 'Jul 2019 - Installations Quantity',\n",
       " 'Jul 2019 - SGU Rated Output In kW',\n",
       " 'Aug 2019 - Installations Quantity',\n",
       " 'Aug 2019 - SGU Rated Output In kW',\n",
       " 'Sep 2019 - Installations Quantity',\n",
       " 'Sep 2019 - SGU Rated Output In kW',\n",
       " 'Oct 2019 - Installations Quantity',\n",
       " 'Oct 2019 - SGU Rated Output In kW',\n",
       " 'Nov 2019 - Installations Quantity',\n",
       " 'Nov 2019 - SGU Rated Output In kW',\n",
       " 'Dec 2019 - Installations Quantity',\n",
       " 'Dec 2019 - SGU Rated Output In kW',\n",
       " 'Jan 2020 - Installations Quantity',\n",
       " 'Jan 2020 - SGU Rated Output In kW',\n",
       " 'Feb 2020 - Installations Quantity',\n",
       " 'Feb 2020 - SGU Rated Output In kW',\n",
       " 'Mar 2020 - Installations Quantity',\n",
       " 'Mar 2020 - SGU Rated Output In kW',\n",
       " 'Apr 2020 - Installations Quantity',\n",
       " 'Apr 2020 - SGU Rated Output In kW',\n",
       " 'May 2020 - Installations Quantity',\n",
       " 'May 2020 - SGU Rated Output In kW',\n",
       " 'Jun 2020 - Installations Quantity',\n",
       " 'Jun 2020 - SGU Rated Output In kW',\n",
       " 'Jul 2020 - Installations Quantity',\n",
       " 'Jul 2020 - SGU Rated Output In kW',\n",
       " 'Aug 2020 - Installations Quantity',\n",
       " 'Aug 2020 - SGU Rated Output In kW',\n",
       " 'Installations Quantity Total',\n",
       " 'SGU Rated Output In kW Total']"
      ]
     },
     "execution_count": 14,
     "metadata": {},
     "output_type": "execute_result"
    }
   ],
   "source": [
    "list(columns[4:])"
   ]
  },
  {
   "cell_type": "code",
   "execution_count": null,
   "metadata": {},
   "outputs": [],
   "source": []
  }
 ],
 "metadata": {
  "kernelspec": {
   "display_name": "Python 3",
   "language": "python",
   "name": "python3"
  },
  "language_info": {
   "codemirror_mode": {
    "name": "ipython",
    "version": 3
   },
   "file_extension": ".py",
   "mimetype": "text/x-python",
   "name": "python",
   "nbconvert_exporter": "python",
   "pygments_lexer": "ipython3",
   "version": "3.8.2"
  }
 },
 "nbformat": 4,
 "nbformat_minor": 4
}
